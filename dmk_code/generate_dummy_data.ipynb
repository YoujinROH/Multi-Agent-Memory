{
 "cells": [
  {
   "cell_type": "code",
   "execution_count": 17,
   "metadata": {},
   "outputs": [],
   "source": [
    "from openai import OpenAI\n",
    "\n",
    "def chat_with_gpt(user_prompt, system_prompt, model='gpt-4o', temperature = 1.0):\n",
    "    \n",
    "    client = OpenAI()\n",
    "    \n",
    "    completion = client.chat.completions.create(\n",
    "    model=model,\n",
    "    messages=[\n",
    "        {\"role\": \"system\", \"content\": system_prompt},\n",
    "        {\"role\": \"user\", \"content\": user_prompt}\n",
    "    ]\n",
    "    )\n",
    "\n",
    "    return completion.choices[0].message.content"
   ]
  },
  {
   "cell_type": "code",
   "execution_count": 6,
   "metadata": {},
   "outputs": [],
   "source": [
    "import json\n",
    "file_path = \"./processed_persona_data.json\"\n",
    "with open(file_path, 'r', encoding='utf-8') as file:\n",
    "    data = json.load(file)\n",
    "\n",
    "for patient in data:\n",
    "    age = patient[\"Age\"]\n",
    "    gender = patient[\"Gender\"]\n",
    "    condtion = patient[\"Existing Medical Conditions\"]\n",
    "    symptoms = patient[\"Symptoms\"]\n",
    "    experience = patient[\"Experience\"]\n",
    "    break"
   ]
  },
  {
   "cell_type": "code",
   "execution_count": 7,
   "metadata": {},
   "outputs": [],
   "source": [
    "system_prompt = f\"\"\" \n",
    "You are a person with typical medical condition. Using provided information, perform requested task.\n",
    "\n",
    "Name: Kim\n",
    "Age: {age}\n",
    "Gender: {gender}\n",
    "Medical Condition = {condtion}\n",
    "Symptoms = {symptoms}\n",
    "Past experiences = {experience}\n",
    "\n",
    "\"\"\""
   ]
  },
  {
   "cell_type": "code",
   "execution_count": 9,
   "metadata": {},
   "outputs": [
    {
     "name": "stdout",
     "output_type": "stream",
     "text": [
      "00:00:00. I am sleeping\n",
      "01:00:00. I am sleeping\n",
      "02:00:00. I am sleeping\n",
      "03:00:00. I woke up from sleep due to back pain\n",
      "04:00:00. I tried to go back to sleep, but I couldn't fall asleep\n",
      "05:00:00. I tried to go back to sleep, but I couldn't fall asleep\n",
      "06:00:00. I am sleeping\n",
      "07:00:00. I woke up\n",
      "08:00:00. I ate breakfast\n",
      "09:00:00. I watched TV\n",
      "10:00:00. I went to hospital for the pain control and physical therapy\n",
      "11:00:00. I went back to my house\n",
      "12:00:00. I ate lunch\n",
      "13:00:00. I watched TV\n",
      "14:00:00. I tried to take a nap\n",
      "15:00:00. I was lying in bed without sleeping\n",
      "16:00:00. I was lying in bed without sleeping\n",
      "17:00:00. I went market to prepare for the dinner\n",
      "18:00:00. I had a dinner\n",
      "19:00:00. I was lying in bed watching smartphone\n",
      "20:00:00. I was lying in bed watching smartphone\n",
      "21:00:00. I took a shower\n",
      "22:00:00. I've call to my friend but she did not respond\n",
      "23:00:00. I was trying to sleep but I was not able to fall into sleep due to back pain\n"
     ]
    }
   ],
   "source": [
    "file_path = \"./dummy_dataset/daily_dummy_1.txt\"\n",
    "with open(file_path, 'r', encoding='utf-8') as file:\n",
    "    txt_data = file.read()\n",
    "print(txt_data)"
   ]
  },
  {
   "cell_type": "code",
   "execution_count": 21,
   "metadata": {},
   "outputs": [],
   "source": [
    "user_prompt_30min = f\"\"\" \n",
    "Refer to the given hourly schedule of daily activities to create and organize a 30-minute interval schedule.\n",
    "\n",
    "Hourly schedule of daily activity:\n",
    "{txt_data}\n",
    "\n",
    "Generated answer should be 48 activity divided into every 30 minutes.\n",
    "Do not skip the time\n",
    "Do not repeat the written activity. Generate new activity that is possible considering two before and after activities \n",
    "Return only shedule\n",
    "\"\"\""
   ]
  },
  {
   "cell_type": "code",
   "execution_count": 22,
   "metadata": {},
   "outputs": [
    {
     "name": "stdout",
     "output_type": "stream",
     "text": [
      "\n",
      "00:00:00. I am sleeping  \n",
      "00:30:00. I am sleeping  \n",
      "01:00:00. I am sleeping  \n",
      "01:30:00. I am sleeping  \n",
      "02:00:00. I am sleeping  \n",
      "02:30:00. I am sleeping  \n",
      "03:00:00. I woke up from sleep due to back pain  \n",
      "03:30:00. I did gentle stretches to relieve back pain  \n",
      "04:00:00. I tried to go back to sleep, but I couldn't fall asleep  \n",
      "04:30:00. I listened to calming music  \n",
      "05:00:00. I tried to go back to sleep, but I couldn't fall asleep  \n",
      "05:30:00. I practiced deep breathing exercises  \n",
      "06:00:00. I am sleeping  \n",
      "06:30:00. I am sleeping  \n",
      "07:00:00. I woke up  \n",
      "07:30:00. I got up and did a light stretch  \n",
      "08:00:00. I ate breakfast  \n",
      "08:30:00. I sipped some herbal tea  \n",
      "09:00:00. I watched TV  \n",
      "09:30:00. I did a light home workout  \n",
      "10:00:00. I went to hospital for the pain control and physical therapy  \n",
      "10:30:00. I was waiting for the therapy session  \n",
      "11:00:00. I went back to my house  \n",
      "11:30:00. I rested on the couch  \n",
      "12:00:00. I ate lunch  \n",
      "12:30:00. I washed the dishes  \n",
      "13:00:00. I watched TV  \n",
      "13:30:00. I read a book  \n",
      "14:00:00. I tried to take a nap  \n",
      "14:30:00. I had trouble napping  \n",
      "15:00:00. I was lying in bed without sleeping  \n",
      "15:30:00. I observed the view from the window  \n",
      "16:00:00. I was lying in bed without sleeping  \n",
      "16:30:00. I wrote in my journal  \n",
      "17:00:00. I went market to prepare for the dinner  \n",
      "17:30:00. I put away groceries  \n",
      "18:00:00. I had a dinner  \n",
      "18:30:00. I cleaned up the kitchen  \n",
      "19:00:00. I was lying in bed watching smartphone  \n",
      "19:30:00. I texted with family  \n",
      "20:00:00. I was lying in bed watching smartphone  \n",
      "20:30:00. I played a puzzle game on my phone  \n",
      "21:00:00. I took a shower  \n",
      "21:30:00. I did my skincare routine  \n",
      "22:00:00. I've call to my friend but she did not respond  \n",
      "22:30:00. I browsed through a magazine  \n",
      "23:00:00. I was trying to sleep but I was not able to fall into sleep due to back pain   \n",
      "23:30:00. I meditated in bed  \n"
     ]
    }
   ],
   "source": [
    "half_hour_schdule = chat_with_gpt(user_prompt_30min, system_prompt)\n",
    "print(half_hour_schdule)"
   ]
  },
  {
   "cell_type": "code",
   "execution_count": 23,
   "metadata": {},
   "outputs": [],
   "source": [
    "user_prompt_15min = f\"\"\" \n",
    "Refer to the given 30-minute schedule of daily activities to create and organize a 15-minute interval schedule.\n",
    "\n",
    "30-minute schedule of daily activity:\n",
    "{txt_data}\n",
    "\n",
    "Generated answer should be 96 activity divided into every 30 minutes.\n",
    "Do not skip the time\n",
    "Do not repeat the written activity. Generate new activity that is possible considering two before and after activities \n",
    "Return only shedule\n",
    "\"\"\""
   ]
  },
  {
   "cell_type": "code",
   "execution_count": 24,
   "metadata": {},
   "outputs": [],
   "source": [
    "quarter_hour_schdule = chat_with_gpt(user_prompt_15min, system_prompt)\n",
    "\n",
    "file_path = 'C:/Users/dmkim/OneDrive/바탕 화면/엔피시즈/code/15min_dummy_data_1.txt'\n",
    "with open(file_path, 'w', encoding='utf-8') as file:\n",
    "    file.write(quarter_hour_schdule)"
   ]
  },
  {
   "cell_type": "markdown",
   "metadata": {},
   "source": [
    "Final"
   ]
  },
  {
   "cell_type": "code",
   "execution_count": 31,
   "metadata": {},
   "outputs": [],
   "source": [
    "txt_list = []\n",
    "for i in range(9):\n",
    "    txt_file_path = f\"C:/Users/dmkim/OneDrive/바탕 화면/엔피시즈/code/dummy_dataset/daily_dummy_{i}.txt\"\n",
    "    with open(txt_file_path, 'r', encoding='utf-8') as file:\n",
    "        txt_data = file.read()\n",
    "        txt_list.append(txt_data)    "
   ]
  },
  {
   "cell_type": "code",
   "execution_count": 32,
   "metadata": {},
   "outputs": [],
   "source": [
    "def gen_system_prompt(age, gender, condition, symptoms, experience):\n",
    "    prompt = f\"\"\" \n",
    "    You are a person with typical medical condition. Using provided information, perform requested task.\n",
    "\n",
    "    Name: Kim\n",
    "    Age: {age}\n",
    "    Gender: {gender}\n",
    "    Medical Condition = {condition}\n",
    "    Symptoms = {symptoms}\n",
    "    Past experiences = {experience}\n",
    "    \"\"\"\n",
    "\n",
    "    return prompt\n",
    "\n",
    "def half_hour_prompt(txt_data):\n",
    "    prompt = f\"\"\" \n",
    "    Refer to the given hourly schedule of daily activities to create and organize a 30-minute interval schedule.\n",
    "\n",
    "    Hourly schedule of daily activity:\n",
    "    {txt_data}\n",
    "\n",
    "    Generated answer should be 48 activity divided into every 30 minutes.\n",
    "    Do not skip the time\n",
    "    Do not repeat the written activity. Generate new activity that is possible considering two before and after activities \n",
    "    Return only shedule\n",
    "    \"\"\"\n",
    "\n",
    "    return prompt\n",
    "\n",
    "def quarter_hour_prompt(txt_data):\n",
    "    prompt = f\"\"\" \n",
    "    Refer to the given 30-minute schedule of daily activities to create and organize a 15-minute interval schedule.\n",
    "\n",
    "    30-minute schedule of daily activity:\n",
    "    {txt_data}\n",
    "\n",
    "    Generated answer should be 96 activity divided into every 30 minutes.\n",
    "    Do not skip the time\n",
    "    Do not repeat the written activity. Generate new activity that is possible considering two before and after activities \n",
    "    Return only shedule\n",
    "    \"\"\"\n",
    "    \n",
    "    return prompt"
   ]
  },
  {
   "cell_type": "code",
   "execution_count": 33,
   "metadata": {},
   "outputs": [
    {
     "name": "stdout",
     "output_type": "stream",
     "text": [
      "1\n",
      "2\n",
      "3\n",
      "4\n",
      "5\n",
      "6\n",
      "7\n",
      "8\n",
      "9\n"
     ]
    }
   ],
   "source": [
    "import json\n",
    "file_path = \"C:/Users/dmkim/OneDrive/바탕 화면/엔피시즈/code/processed_persona_data.json\"\n",
    "with open(file_path, 'r', encoding='utf-8') as file:\n",
    "    json_data = json.load(file)\n",
    "\n",
    "count = 0\n",
    "for patient, txt_data in zip(data, txt_list):\n",
    "    age = patient[\"Age\"]\n",
    "    gender = patient[\"Gender\"]\n",
    "    condtion = patient[\"Existing Medical Conditions\"]\n",
    "    symptoms = patient[\"Symptoms\"]\n",
    "    experience = patient[\"Experience\"]\n",
    "\n",
    "    system_prompt = gen_system_prompt(age, gender, condtion, symptoms, experience)\n",
    "    user_prompt_30min = half_hour_prompt(txt_data)\n",
    "\n",
    "    half_hour_data = chat_with_gpt(user_prompt_30min, system_prompt)\n",
    "\n",
    "    user_prompt_15min = quarter_hour_prompt(half_hour_data)\n",
    "    quarter_hour_data = chat_with_gpt(user_prompt_15min, system_prompt)\n",
    "\n",
    "    file_path = f'C:/Users/dmkim/OneDrive/바탕 화면/엔피시즈/code/dummy_dataset/15min_dummy_data_{count}.txt'\n",
    "    with open(file_path, 'w', encoding='utf-8') as file:\n",
    "        file.write(quarter_hour_data)\n",
    "    count += 1\n",
    "    print(count)\n"
   ]
  },
  {
   "cell_type": "code",
   "execution_count": null,
   "metadata": {},
   "outputs": [],
   "source": []
  }
 ],
 "metadata": {
  "kernelspec": {
   "display_name": "agent",
   "language": "python",
   "name": "python3"
  },
  "language_info": {
   "codemirror_mode": {
    "name": "ipython",
    "version": 3
   },
   "file_extension": ".py",
   "mimetype": "text/x-python",
   "name": "python",
   "nbconvert_exporter": "python",
   "pygments_lexer": "ipython3",
   "version": "3.10.0"
  }
 },
 "nbformat": 4,
 "nbformat_minor": 2
}
