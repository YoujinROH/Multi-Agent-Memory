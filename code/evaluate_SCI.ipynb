{
 "cells": [
  {
   "cell_type": "code",
   "execution_count": 1,
   "metadata": {},
   "outputs": [],
   "source": [
    "Q1 = \"Thinking about a typical night in the last month, How long does it take you to fall asleep? 1. 0~15 minute, 2. 16~30 minute, 3. 31~45 minute, 4. 46~60 minute, 5.  more than 61 minute. Print only a number\"\n",
    "Q2 = \"Thinking about a typical night in the last month, If you then wake up during the night ... how long are you awake for in total? (add up all the awakenings)? 1. 0~15 minute, 2. 16~30 minute, 3. 31~45 minute, 4. 46~60 minute, 5.  more than 61 minute. Print only a number\"\n",
    "Q3 = \"Thinking about a typical night in the last month, How many nights a week do you have a problem with your sleep? 1. 0 or 1 time, 2. 2 times, 3. 3 times, 4. 4 times, 5.  5~7 times. Print only a number\"\n",
    "Q4 = \"Thinking about a typical night in the last month, How would you rate your sleep quality? 1. very good, 2. good, 3. Average, 4. Poor, 5.  Very Poor. Print only a number\"\n",
    "Q5 = \"Thinking about the past month, to what extent has poor sleep, Affected your mood, energy, or relationships? 1. Not at all, 2. A little, 3. Somewhat, 4. Much, 5. Very much. Print only a number\"\n",
    "Q6 = \"Thinking about the past month, to what extent has poor sleep, Affected your concentration, productivity, or ability to stay awake? 1. Not at all, 2. A little, 3. Somewhat, 4. Much, 5. Very much. Print only a number\"\n",
    "Q7 = \"Thinking about the past month, to what extent has poor sleep, Troubled you in general? 1. Not at all, 2. A little, 3. Somewhat, 4. Much, 5. Very much. Print only a number\"\n",
    "Q8 = \"How long have you had a problem with your sleep? 1. I don't have a problem or less than 1 month, 2. 1~2 months, 3. 3~6 months, 4. 7~12 months, 5. more than 1 year. Print only a number\"\n",
    "\n",
    "questions = [Q1, Q2, Q3, Q4, Q5, Q6, Q7, Q8]"
   ]
  },
  {
   "cell_type": "code",
   "execution_count": null,
   "metadata": {},
   "outputs": [],
   "source": [
    "from openai import OpenAI\n",
    "\n",
    "def chat_with_gpt(user_prompt, system_prompt, model='gpt-4o-mini'):\n",
    "    \n",
    "    client = OpenAI()\n",
    "    \n",
    "    completion = client.chat.completions.create(\n",
    "    model=model,\n",
    "    messages=[\n",
    "        {\"role\": \"system\", \"content\": system_prompt},\n",
    "        {\"role\": \"user\", \"content\": user_prompt}\n",
    "    ]\n",
    "    )\n",
    "\n",
    "    return completion.choices[0].message.content"
   ]
  },
  {
   "cell_type": "code",
   "execution_count": 10,
   "metadata": {},
   "outputs": [
    {
     "name": "stdout",
     "output_type": "stream",
     "text": [
      "5\n",
      "2\n",
      "5\n",
      "5\n",
      "5\n",
      "5\n",
      "5\n",
      "5\n",
      "[ChatCompletionMessage(content='5', refusal=None, role='assistant', audio=None, function_call=None, tool_calls=None), ChatCompletionMessage(content='2', refusal=None, role='assistant', audio=None, function_call=None, tool_calls=None), ChatCompletionMessage(content='5', refusal=None, role='assistant', audio=None, function_call=None, tool_calls=None), ChatCompletionMessage(content='5', refusal=None, role='assistant', audio=None, function_call=None, tool_calls=None), ChatCompletionMessage(content='5', refusal=None, role='assistant', audio=None, function_call=None, tool_calls=None), ChatCompletionMessage(content='5', refusal=None, role='assistant', audio=None, function_call=None, tool_calls=None), ChatCompletionMessage(content='5', refusal=None, role='assistant', audio=None, function_call=None, tool_calls=None), ChatCompletionMessage(content='5', refusal=None, role='assistant', audio=None, function_call=None, tool_calls=None)]\n"
     ]
    }
   ],
   "source": [
    "answers = []\n",
    "system_prompt = \"you are a patient suffering from insomnia. Please respond to the questions in position of patient. Answer only score which is number\"\n",
    "for question in questions:\n",
    "        gpt_response = chat_with_gpt(question, system_prompt)\n",
    "        answers.append(gpt_response)\n",
    "\n",
    "print(answers)"
   ]
  },
  {
   "cell_type": "code",
   "execution_count": null,
   "metadata": {},
   "outputs": [],
   "source": []
  }
 ],
 "metadata": {
  "kernelspec": {
   "display_name": "agent",
   "language": "python",
   "name": "python3"
  },
  "language_info": {
   "codemirror_mode": {
    "name": "ipython",
    "version": 3
   },
   "file_extension": ".py",
   "mimetype": "text/x-python",
   "name": "python",
   "nbconvert_exporter": "python",
   "pygments_lexer": "ipython3",
   "version": "3.10.0"
  }
 },
 "nbformat": 4,
 "nbformat_minor": 2
}
