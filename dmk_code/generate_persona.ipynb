{
 "cells": [
  {
   "cell_type": "code",
   "execution_count": 86,
   "metadata": {},
   "outputs": [],
   "source": [
    "from openai import OpenAI\n",
    "\n",
    "def chat_with_gpt(user_prompt, system_prompt, model='gpt-4o-mini', temperature = 0.1):\n",
    "    \n",
    "    client = OpenAI()\n",
    "    \n",
    "    completion = client.chat.completions.create(\n",
    "    model=model,\n",
    "    messages=[\n",
    "        {\"role\": \"system\", \"content\": system_prompt},\n",
    "        {\"role\": \"user\", \"content\": user_prompt}\n",
    "    ]\n",
    "    )\n",
    "\n",
    "    return completion.choices[0].message.content"
   ]
  },
  {
   "cell_type": "code",
   "execution_count": 51,
   "metadata": {},
   "outputs": [],
   "source": [
    "def transform_patient_data(raw_data):\n",
    "    transformed_data = []\n",
    "    for entry in raw_data:\n",
    "        lines = entry.split(\"\\n\")\n",
    "        patient_info = {\n",
    "            \"Age\": lines[0].split(\": \")[1].strip(),\n",
    "            \"Gender\": lines[1].split(\": \")[1].strip(),\n",
    "            \"Existing Medical Conditions\": lines[2].split(\": \")[1].strip(),\n",
    "            \"Symptoms\": lines[3].split(\": \")[1].strip(),\n",
    "            \"Key Past Experiences\": [\n",
    "                line.strip(\"- \").strip()\n",
    "                for line in lines[4].split(\": \", 1)[1].strip().split(\"\\n\")\n",
    "                if line.strip()\n",
    "            ],\n",
    "        }\n",
    "        transformed_data.append(patient_info)\n",
    "    return transformed_data"
   ]
  },
  {
   "cell_type": "code",
   "execution_count": 34,
   "metadata": {},
   "outputs": [
    {
     "name": "stdout",
     "output_type": "stream",
     "text": [
      "Patient A was a 54-year-old nun who described herself as ‘detail-oriented and perfectionistic.’ She was diagnosed with breast cancer 5 years ago when she visited the hospital for a routine examination. Along with breast cancer, she was also diagnosed with depressed mood and insomnia. When she visited about 6 months ago, her back pain became worse, which subsequently made it more difficult for her to sleep. She initiated treatment in pain control and physical therapy in the Department of Rehabilitation medicine as an outpatient. She was prescribed 10 mg of Zolpidem. Her pain and insomnia improved, but she continued to take sleep medication on an as needed basis. Her main goal for participating in this treatment was discontinuation of her sleep medication.\n",
      "Patient B was a 52-year-old public official who had timid and sensitive personality. He started to experience anxiety and heart palpitations, physical symptoms of dizziness and sleep disorders about two years ago when his mother passed away. He reported taking sleep medication, and claimed he had no improvement. He reported participating in cognitive-behavioral therapy for insomnia previously, which he reported was not very effective.\n",
      "Patient C was a 64-year-old woman who experienced anxiety symptoms. She reported visiting the hospital with main complaints of insomnia which started six years ago when her son got married with the start of frequent and repetitive conflicts with her daughter-in-law. Approximately 2 months ago, she returned to the hospital after arguing with her daughter-in-law, which in turn exacerbated her insomnia. Since then, she has made efforts to reconcile with her daughter-in-law and has also started taking sleep medication, which has somewhat improved her sleep.\n",
      "Patient D was a 46-year-old construction company worker who became nervous and experienced worsening physical symptoms such as headaches under stress. His main sources of stress were conflicts with his wife and work. He was diagnosed with anxiety disorder at a private psychiatry clinic, and he had been consistently taking medication for 7 years prior to visiting the hospital. About 1.5 years ago, he was involved in an automobile accident, which amplified his anxiety and hyperarousal symptoms. He reported that since the accident, he has been experiencing symptoms consistent with posttraumatic stress disorder, including severe nightmares.\n",
      "Patient E was a 59-year-old woman who first visited the hospital about two years ago after her brother-in-law failed to return money that she had lent him, leaving her with depression and insomnia. About one year ago, she began to care for her mother-in-law, who had dementia, and the additional stress exacerbated her insomnia. She reported suffering from insomnia almost every night despite taking sleep medication.\n",
      "Mr Tan, a 40-year-old man with difficulty falling asleep and maintaining sleep. Mr. Tan, a 45-year-old man presents with difficulty falling asleep and staying asleep. The problem started after the death of his sister 2 months previously. He is unable to fall sleep until at least an hour after going to bed. He has no previous sleep problems. A general practitioner (GP) he consulted had prescribed low-dose dothiepin (tricyclic antidepressant) as sedation but Mr. Tan was unable to tolerate the drowsiness and dry mouth caused by the medication. He consumes 4 cups of coffee during the day and lately takes alcohol at night to aid sleep. The patient’s wife has noted that his legs jerk occasionally during the sleep though Mr. Tan is not aware of these movements.\n",
      "Puan Suraya, a 40-year-old lady with difficulty falling asleep. Puan Suraya, a 40 year old schoolteacher complains of inability to sleep well for more than 2 years. She regularly goes to bed at 10 pm but is unable to sleep until 1 am. She experiences about 3-5 awakenings every night and with each awakening requires about 30 minutes to fall asleep again. Suraya, also experiences daytime fatigue and is unable to concentrate in her work. She does not take naps during the day. She does not snore and has no usual limb movements during sleep (history from husband). Her general health has been good. She vaguely recalls being involved in a stressful family property dispute just prior to onset of her sleep difficulty. As bedtime approaches, she becomes very tense and worries about the prospect of another sleepless night. “Sleep has become a real frustration. Every night, when I lie in bed, I have to try very hard to sleep. I keep watching the clock”. She does not take any sleeping pills and has no symptoms of depression. There is no marital conflict. On further questioning, she surprising admits that she sleeps well while on vacations and relatives houses.\n",
      "Mrs Lee, a 62 years old widow who lives alone. Mrs. Lee presents at the practice requesting for a prescription for diazepam (Valium). She is currently on diazepam 15 mg nocte to help her sleep and allay anxiety. A doctor she consulted after the death of her husband 5 years ago had started her on diazepam 5mg nocte but with time, she required increasing doses of the hypnotic. Her previous attempts to discontinue her medication had failed as it resulted in insomnia, anxiety, tremor, irritability, nightmares and hyperacusis (unpleasant loud distortion of noise) and tinnitus. She has adjusted to her activities of daily living while on the above medication but does complain of poor memory. A GP she consulted recently after a fall had advised her to discontinue her diazepam in view of her perceived poor memory and tendency to falls. Physical Exam: Normal. Gait and mobility unimpaired. BP 130/85 mmHg. Mini Mental Status Exam: Normal\n",
      "A 65 year old man with Parkinson’s disease and insomnia. Encik Hamzah, a 68-year old man with Parkinson’s disease, complaints of difficulty falling asleep, frequent nocturnal awakenings and non-refreshing sleep. He also experiences daytime fatigue and spontaneous dozing. He goes to bed at 11 pm, takes an hour to fall asleep and is awake by 5 am. He is unable to sleep thereafter. His is currently on levodopa and bromocriptine. He spends most of the day at home and does admit to feeling depressed. He has marked dystonia affecting his trunk and upper limbs after a recent increase in medication dosage. His wife has noticed him to be confused on some nights and talk in his sleep. He has not been observed to have sleep-related breathing difficulties.\n"
     ]
    }
   ],
   "source": [
    "import json\n",
    "import re\n",
    "\n",
    "# JSON 파일 경로\n",
    "file_path = 'C:\\\\Users\\\\dmkim\\\\OneDrive\\\\바탕 화면\\\\엔피시즈\\\\code\\\\original_persona_data.json'\n",
    "\n",
    "# JSON 파일 열기\n",
    "with open(file_path, 'r', encoding='utf-8') as file:\n",
    "    prompt_json = json.load(file)\n",
    "\n",
    "# JSON 데이터 출력\n",
    "for i in prompt_json:\n",
    "    print(i['content'])"
   ]
  },
  {
   "cell_type": "code",
   "execution_count": 124,
   "metadata": {},
   "outputs": [],
   "source": [
    "system_prompt = \"\"\"\n",
    "\n",
    "You are a psychological expert. From the given content, extract and summarize the following information about the patient:\n",
    "\n",
    "Age:\n",
    "Gender:\n",
    "Existing medical conditions:\n",
    "Symptoms:\n",
    "Key past experience: [A,B,C,D,E] \n",
    "\n",
    "For experiences A~E, focus on issues the patient has faced and express experiences concisely and from the patient's perspective.\n",
    "Experiences must be tied up into a list format with only experience. This is example format [I've ate pizza for lunch, I went to the restroom, and so on]\n",
    "Age should contain only the number\n",
    "Do not change provided format, it should be exatly same as provided include spacing\n",
    "\"\"\""
   ]
  },
  {
   "cell_type": "code",
   "execution_count": 125,
   "metadata": {},
   "outputs": [
    {
     "name": "stdout",
     "output_type": "stream",
     "text": [
      "['Age: 54  \\nGender: Female  \\nExisting medical conditions: Breast cancer, depressed mood, insomnia, back pain  \\nSymptoms: Difficulties sleeping, worsened back pain  \\n\\nKey past experience: [I was diagnosed with breast cancer during a routine examination, I experienced a depressed mood and insomnia, my back pain got worse impacting my sleep, I started pain control and physical therapy, I wanted to stop taking sleep medication]', 'Age: 52  \\nGender: Male  \\nExisting medical conditions: Sleep disorders  \\nSymptoms: Anxiety, heart palpitations, dizziness  \\nKey past experience: [My mother passed away, I started experiencing anxiety and heart palpitations, I took sleep medication with no improvement, I participated in cognitive-behavioral therapy for insomnia, the therapy was not very effective]  ', \"Age: 64  \\nGender: Female  \\nExisting medical conditions: Anxiety  \\nSymptoms: Insomnia  \\nKey past experience: [Conflicts with daughter-in-law started six years ago, Insomnia started after son's marriage, Arguments with daughter-in-law exacerbated insomnia, Reconciliation efforts with daughter-in-law, Started taking sleep medication for improvement]\", 'Age: 46\\nGender: Male\\nExisting medical conditions: Anxiety disorder, posttraumatic stress disorder (PTSD)\\nSymptoms: Nervousness, worsening physical symptoms such as headaches under stress, anxiety, hyperarousal, severe nightmares\\nKey past experience: [Conflicts with wife and work, Diagnosed with anxiety disorder, Automobile accident, Symptoms amplified post-accident, Experiencing symptoms consistent with PTSD]', 'Age: 59  \\nGender: Female  \\nExisting medical conditions: Depression, Insomnia  \\nSymptoms: Insomnia, Stress  \\nKey past experience: [My brother-in-law failed to return money that I had lent him, I experienced depression and insomnia, I began to care for my mother-in-law with dementia, the additional stress exacerbated my insomnia, I suffered from insomnia almost every night despite taking sleep medication]', \"Age: 45\\nGender: Male\\nExisting medical conditions: None specified\\nSymptoms: Difficulty falling asleep and maintaining sleep, takes over an hour to fall asleep, occasional leg jerking during sleep (not self-aware), inability to tolerate medication side effects (drowsiness, dry mouth)\\nKey past experience: [Sister passed away 2 months ago, Had no previous sleep problems, Tried medication but couldn't tolerate side effects, Increased caffeine and alcohol consumption to aid sleep, Wife noticed leg jerks during sleep]\", 'Age: 40  \\nGender: Female  \\nExisting medical conditions: None reported  \\nSymptoms: Difficulty falling asleep, frequent awakenings at night, daytime fatigue, inability to concentrate, tension and worry at bedtime  \\nKey past experience: [I vaguely recall being involved in a stressful family property dispute just prior to the onset of my sleep difficulty, Sleep has become a real frustration, As bedtime approaches, I become very tense and worry about the prospect of another sleepless night, Every night, when I lie in bed, I have to try very hard to sleep, I keep watching the clock]', 'Age: 62  \\nGender: Female  \\nExisting medical conditions: None specified  \\nSymptoms: Insomnia, anxiety, tremor, irritability, nightmares, hyperacusis, tinnitus, poor memory, tendency to falls  \\n\\nKey past experience: [The death of my husband led to the prescription of diazepam, My need for diazepam has increased over time, Attempts to discontinue diazepam resulted in severe withdrawal symptoms, I have adjusted my daily activities while on medication but experience poor memory, A recent fall prompted advice to stop diazepam due to poor memory and falls]', 'Age: 68  \\nGender: male  \\nExisting medical conditions: Parkinson’s disease, insomnia  \\nSymptoms: difficulty falling asleep, frequent nocturnal awakenings, non-refreshing sleep, daytime fatigue, spontaneous dozing, depression, marked dystonia in trunk and upper limbs, confusion at night, sleep talking  \\nKey past experience: [I have difficulty falling asleep, I experience frequent nocturnal awakenings, I feel my sleep is non-refreshing, I suffer from daytime fatigue and spontaneous dozing, I felt increased confusion and talk in my sleep after my medication dosage was increased]  ']\n"
     ]
    }
   ],
   "source": [
    "patient_dataset = []\n",
    "for patient in prompt_json:\n",
    "    data = chat_with_gpt(patient[\"content\"], system_prompt, model='gpt-4o')\n",
    "    patient_dataset.append(data)\n",
    "    \n",
    "print(patient_dataset)"
   ]
  },
  {
   "cell_type": "code",
   "execution_count": 126,
   "metadata": {},
   "outputs": [
    {
     "name": "stdout",
     "output_type": "stream",
     "text": [
      "Data saved to processed_persona_data_2ver.json\n"
     ]
    }
   ],
   "source": [
    "json_list = []\n",
    "\n",
    "for patient in patient_dataset:\n",
    "    patient = [item for item in patient.split('\\n') if item!= \"\"]\n",
    "    # print(patient)\n",
    "    age = patient[0].split(': ')[1]\n",
    "    gender = patient[1].split(': ')[1]\n",
    "    condition = patient[2].split(': ')[1]\n",
    "    symptoms = patient[3].split(': ')[1]\n",
    "    experience_string = patient[4].split(': ')[1]\n",
    "    experience = [item.strip() for item in experience_string.strip(\"[]\").split(\",\")]\n",
    "    # print(age)\n",
    "    # print(gender)\n",
    "    # print(condition)\n",
    "    # print(symptoms)\n",
    "    # print(experience)\n",
    "\n",
    "    json_patient = {\n",
    "        \"Age\": age,\n",
    "        \"Gender\": gender,\n",
    "        \"Existing Medical Conditions\": condition,\n",
    "        \"Symptoms\": symptoms,\n",
    "        \"Experience\": experience \n",
    "    }\n",
    "    json_list.append(json_patient)\n",
    "\n",
    "file_path = 'processed_persona_data_2ver.json'\n",
    "with open(file_path, 'w', encoding='utf-8') as file:\n",
    "    json.dump(json_list, file, ensure_ascii=False, indent=4)\n",
    "\n",
    "print(f\"Data saved to {file_path}\")\n"
   ]
  },
  {
   "cell_type": "code",
   "execution_count": null,
   "metadata": {},
   "outputs": [],
   "source": []
  }
 ],
 "metadata": {
  "kernelspec": {
   "display_name": "agent",
   "language": "python",
   "name": "python3"
  },
  "language_info": {
   "codemirror_mode": {
    "name": "ipython",
    "version": 3
   },
   "file_extension": ".py",
   "mimetype": "text/x-python",
   "name": "python",
   "nbconvert_exporter": "python",
   "pygments_lexer": "ipython3",
   "version": "3.10.0"
  }
 },
 "nbformat": 4,
 "nbformat_minor": 2
}
